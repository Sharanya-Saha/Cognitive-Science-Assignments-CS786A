{
 "cells": [
  {
   "cell_type": "markdown",
   "metadata": {},
   "source": [
    "### <center>Assignment 4:\n",
    "**Submitted by:** <br>\n",
    "Sharanya Saha<br>\n",
    "21111056 <br>\n",
    "*sharanya21@iitk.ac.in*\n"
   ]
  },
  {
   "cell_type": "code",
   "execution_count": 1,
   "metadata": {},
   "outputs": [],
   "source": [
    "#importing the required Libraries\n",
    "import pandas as pd\n",
    "import numpy as np\n",
    "from random import shuffle"
   ]
  },
  {
   "cell_type": "markdown",
   "metadata": {},
   "source": [
    "**Reading the datasets:**"
   ]
  },
  {
   "cell_type": "code",
   "execution_count": 2,
   "metadata": {},
   "outputs": [],
   "source": [
    "column_names=['weight','height','label']\n",
    "X=pd.read_csv('X.csv',names=column_names) #The training dataset\n",
    "Y=pd.read_csv('y.csv',names=column_names[0:2]) #The test dataset"
   ]
  },
  {
   "cell_type": "code",
   "execution_count": 3,
   "metadata": {},
   "outputs": [
    {
     "data": {
      "text/html": [
       "<div>\n",
       "<style scoped>\n",
       "    .dataframe tbody tr th:only-of-type {\n",
       "        vertical-align: middle;\n",
       "    }\n",
       "\n",
       "    .dataframe tbody tr th {\n",
       "        vertical-align: top;\n",
       "    }\n",
       "\n",
       "    .dataframe thead th {\n",
       "        text-align: right;\n",
       "    }\n",
       "</style>\n",
       "<table border=\"1\" class=\"dataframe\">\n",
       "  <thead>\n",
       "    <tr style=\"text-align: right;\">\n",
       "      <th></th>\n",
       "      <th>weight</th>\n",
       "      <th>height</th>\n",
       "      <th>label</th>\n",
       "    </tr>\n",
       "  </thead>\n",
       "  <tbody>\n",
       "    <tr>\n",
       "      <th>0</th>\n",
       "      <td>48</td>\n",
       "      <td>58</td>\n",
       "      <td>1</td>\n",
       "    </tr>\n",
       "    <tr>\n",
       "      <th>1</th>\n",
       "      <td>54</td>\n",
       "      <td>62</td>\n",
       "      <td>1</td>\n",
       "    </tr>\n",
       "    <tr>\n",
       "      <th>2</th>\n",
       "      <td>48</td>\n",
       "      <td>56</td>\n",
       "      <td>1</td>\n",
       "    </tr>\n",
       "    <tr>\n",
       "      <th>3</th>\n",
       "      <td>46</td>\n",
       "      <td>62</td>\n",
       "      <td>1</td>\n",
       "    </tr>\n",
       "    <tr>\n",
       "      <th>4</th>\n",
       "      <td>47</td>\n",
       "      <td>59</td>\n",
       "      <td>1</td>\n",
       "    </tr>\n",
       "  </tbody>\n",
       "</table>\n",
       "</div>"
      ],
      "text/plain": [
       "   weight  height  label\n",
       "0      48      58      1\n",
       "1      54      62      1\n",
       "2      48      56      1\n",
       "3      46      62      1\n",
       "4      47      59      1"
      ]
     },
     "execution_count": 3,
     "metadata": {},
     "output_type": "execute_result"
    }
   ],
   "source": [
    "X.head()"
   ]
  },
  {
   "cell_type": "code",
   "execution_count": 4,
   "metadata": {},
   "outputs": [
    {
     "data": {
      "text/html": [
       "<div>\n",
       "<style scoped>\n",
       "    .dataframe tbody tr th:only-of-type {\n",
       "        vertical-align: middle;\n",
       "    }\n",
       "\n",
       "    .dataframe tbody tr th {\n",
       "        vertical-align: top;\n",
       "    }\n",
       "\n",
       "    .dataframe thead th {\n",
       "        text-align: right;\n",
       "    }\n",
       "</style>\n",
       "<table border=\"1\" class=\"dataframe\">\n",
       "  <thead>\n",
       "    <tr style=\"text-align: right;\">\n",
       "      <th></th>\n",
       "      <th>weight</th>\n",
       "      <th>height</th>\n",
       "    </tr>\n",
       "  </thead>\n",
       "  <tbody>\n",
       "    <tr>\n",
       "      <th>0</th>\n",
       "      <td>74</td>\n",
       "      <td>67</td>\n",
       "    </tr>\n",
       "    <tr>\n",
       "      <th>1</th>\n",
       "      <td>69</td>\n",
       "      <td>63</td>\n",
       "    </tr>\n",
       "    <tr>\n",
       "      <th>2</th>\n",
       "      <td>92</td>\n",
       "      <td>81</td>\n",
       "    </tr>\n",
       "    <tr>\n",
       "      <th>3</th>\n",
       "      <td>64</td>\n",
       "      <td>61</td>\n",
       "    </tr>\n",
       "    <tr>\n",
       "      <th>4</th>\n",
       "      <td>66</td>\n",
       "      <td>84</td>\n",
       "    </tr>\n",
       "    <tr>\n",
       "      <th>5</th>\n",
       "      <td>76</td>\n",
       "      <td>68</td>\n",
       "    </tr>\n",
       "    <tr>\n",
       "      <th>6</th>\n",
       "      <td>61</td>\n",
       "      <td>58</td>\n",
       "    </tr>\n",
       "    <tr>\n",
       "      <th>7</th>\n",
       "      <td>64</td>\n",
       "      <td>76</td>\n",
       "    </tr>\n",
       "    <tr>\n",
       "      <th>8</th>\n",
       "      <td>68</td>\n",
       "      <td>66</td>\n",
       "    </tr>\n",
       "    <tr>\n",
       "      <th>9</th>\n",
       "      <td>34</td>\n",
       "      <td>61</td>\n",
       "    </tr>\n",
       "  </tbody>\n",
       "</table>\n",
       "</div>"
      ],
      "text/plain": [
       "   weight  height\n",
       "0      74      67\n",
       "1      69      63\n",
       "2      92      81\n",
       "3      64      61\n",
       "4      66      84\n",
       "5      76      68\n",
       "6      61      58\n",
       "7      64      76\n",
       "8      68      66\n",
       "9      34      61"
      ]
     },
     "execution_count": 4,
     "metadata": {},
     "output_type": "execute_result"
    }
   ],
   "source": [
    "Y"
   ]
  },
  {
   "cell_type": "markdown",
   "metadata": {},
   "source": [
    "#### Answer 1: Implementation of Generalized Context Model "
   ]
  },
  {
   "cell_type": "markdown",
   "metadata": {},
   "source": [
    "Below is an Implementation of GCM from the lecture slides :"
   ]
  },
  {
   "cell_type": "markdown",
   "metadata": {},
   "source": [
    "The function below takes the training set(X) and the distinct labels(category) as arguement and forms the exemplar sets. It returns the exemplar sets formed as a list of dataframes."
   ]
  },
  {
   "cell_type": "code",
   "execution_count": 5,
   "metadata": {},
   "outputs": [],
   "source": [
    "def form_exemplars(X,category=[1,2,3]) :\n",
    "    exemplars=[]\n",
    "    for i in category :\n",
    "        df=X.loc[X['label'] == i]\n",
    "        df=df[['height','weight']]\n",
    "        exemplars.append(df)\n",
    "    return exemplars"
   ]
  },
  {
   "cell_type": "code",
   "execution_count": 6,
   "metadata": {},
   "outputs": [
    {
     "data": {
      "text/plain": [
       "3"
      ]
     },
     "execution_count": 6,
     "metadata": {},
     "output_type": "execute_result"
    }
   ],
   "source": [
    "exemplars=form_exemplars(X)\n",
    "len(exemplars)"
   ]
  },
  {
   "cell_type": "markdown",
   "metadata": {},
   "source": [
    "The function below returns the count of the number of times x has been recorded for being in a particular category(exemplar set)."
   ]
  },
  {
   "cell_type": "code",
   "execution_count": 7,
   "metadata": {},
   "outputs": [],
   "source": [
    "def get_count(x,exemplar_set) :\n",
    "    count=exemplar_set.loc[(exemplar_set['height']==x['height']) & (exemplar_set['weight']==x['weight'])]\n",
    "    return len(count)"
   ]
  },
  {
   "cell_type": "markdown",
   "metadata": {},
   "source": [
    "The function below computes the psychological distance between memory exemplar x and stimulus y as: <br>\n",
    "$$d(x,y)= \\sum_{i} \\alpha_{i}(x_{i}-y_{i})$$\n",
    "where, $\\alpha$ contains the attention weights (It reflects the role of semantic knowledge in categorization). <br>\n",
    "As distance is always greater than zero, abs function is used outside the summation."
   ]
  },
  {
   "cell_type": "code",
   "execution_count": 8,
   "metadata": {},
   "outputs": [],
   "source": [
    "def distance(x,y,alpha) :\n",
    "    dist=0\n",
    "    for i in range(len(x)) :\n",
    "        dist=dist+(alpha[i]*(x[i]-y[i]))\n",
    "    return abs(dist)\n",
    "    "
   ]
  },
  {
   "cell_type": "markdown",
   "metadata": {},
   "source": [
    "The function below computes the similarity between memory exemplar x and stimulus y as :\n",
    "$$ s(x,y)=exp(-\\beta d(x,y))$$\n",
    "d(x,y) is the distance between x and y (uses the function distance).<br> $\\beta$ is a parameter reflecting bias-variance tradeoff in similarity judgements."
   ]
  },
  {
   "cell_type": "code",
   "execution_count": 9,
   "metadata": {},
   "outputs": [],
   "source": [
    "def similarity(x,y,alpha,beta) :\n",
    "    return np.exp(-beta*distance(x,y,alpha))"
   ]
  },
  {
   "cell_type": "markdown",
   "metadata": {},
   "source": [
    "The function below returns the category responses for a stimulus y. <br>\n",
    "It uses the equation below where each exemplar vote for the category they are associated with.:\n"
   ]
  },
  {
   "cell_type": "markdown",
   "metadata": {},
   "source": [
    "$$ p(R|y) = \\frac{\\gamma_{R}\\sum_{x \\in R} N(R,x)s(x,y)}{\\sum_{r}\\gamma_{r}\\sum_{k \\in r} N(R,k)s(k,y)}$$"
   ]
  },
  {
   "cell_type": "markdown",
   "metadata": {},
   "source": [
    "$\\gamma$ is the response bias parameter, reflecting the environmental priors on categorization. <br>\n",
    "N(R,x) is the count of the number of times x has been recorded for being in category R before.\n"
   ]
  },
  {
   "cell_type": "code",
   "execution_count": 10,
   "metadata": {},
   "outputs": [],
   "source": [
    "def compute_probability(y,exemplars,alpha,beta,gamma) :\n",
    "    probability=[]\n",
    "    j=0\n",
    "    for exemplar_set in exemplars :\n",
    "        category_votes=0\n",
    "        for i in range(len(exemplar_set)) :\n",
    "            x=exemplar_set.iloc[i]\n",
    "            Nrx=get_count(x,exemplar_set)\n",
    "            #print(Nrx)\n",
    "            category_votes=category_votes+(Nrx*similarity(x,y,alpha,beta))\n",
    "        #print(category_votes*gamma[j])\n",
    "        probability.append(category_votes*gamma[j])\n",
    "        j=j+1\n",
    "    return probability/np.sum(probability)"
   ]
  },
  {
   "cell_type": "markdown",
   "metadata": {},
   "source": [
    "Category Labels: small = 1, average = 2, large = 3<br>\n",
    "- As the model is more likely to use weight than height to make the judgements, the attention weight for 'weight' should be greater than that of attention weight for 'height'. i.e $\\alpha_{weight} > \\alpha_{height}$\n",
    "- As the model is more likely to call someone big average than large, $\\gamma$ for category 2 should be greater than $\\gamma$ for category 3."
   ]
  },
  {
   "cell_type": "code",
   "execution_count": 11,
   "metadata": {},
   "outputs": [],
   "source": [
    "alpha=[0.75,0.25] #attention weights\n",
    "gamma=[0.2,0.7,0.3] #category 1 is at index 0, category 2 at index 1, category 3 at index 2\n",
    "beta=1\n",
    "Y_predicted=Y\n",
    "Y_predicted['Predicted label']=[0]*len(Y)\n",
    "for i in range(len(Y)) :\n",
    "    probability=compute_probability(Y.iloc[i],exemplars,alpha,beta,gamma)\n",
    "    result = np.where(probability == np.amax(probability))\n",
    "    Y_predicted.at[i,'Predicted label']=result[0][0]+1"
   ]
  },
  {
   "cell_type": "code",
   "execution_count": 12,
   "metadata": {},
   "outputs": [
    {
     "data": {
      "text/html": [
       "<div>\n",
       "<style scoped>\n",
       "    .dataframe tbody tr th:only-of-type {\n",
       "        vertical-align: middle;\n",
       "    }\n",
       "\n",
       "    .dataframe tbody tr th {\n",
       "        vertical-align: top;\n",
       "    }\n",
       "\n",
       "    .dataframe thead th {\n",
       "        text-align: right;\n",
       "    }\n",
       "</style>\n",
       "<table border=\"1\" class=\"dataframe\">\n",
       "  <thead>\n",
       "    <tr style=\"text-align: right;\">\n",
       "      <th></th>\n",
       "      <th>weight</th>\n",
       "      <th>height</th>\n",
       "      <th>Predicted label</th>\n",
       "    </tr>\n",
       "  </thead>\n",
       "  <tbody>\n",
       "    <tr>\n",
       "      <th>0</th>\n",
       "      <td>74</td>\n",
       "      <td>67</td>\n",
       "      <td>2</td>\n",
       "    </tr>\n",
       "    <tr>\n",
       "      <th>1</th>\n",
       "      <td>69</td>\n",
       "      <td>63</td>\n",
       "      <td>2</td>\n",
       "    </tr>\n",
       "    <tr>\n",
       "      <th>2</th>\n",
       "      <td>92</td>\n",
       "      <td>81</td>\n",
       "      <td>3</td>\n",
       "    </tr>\n",
       "    <tr>\n",
       "      <th>3</th>\n",
       "      <td>64</td>\n",
       "      <td>61</td>\n",
       "      <td>2</td>\n",
       "    </tr>\n",
       "    <tr>\n",
       "      <th>4</th>\n",
       "      <td>66</td>\n",
       "      <td>84</td>\n",
       "      <td>2</td>\n",
       "    </tr>\n",
       "    <tr>\n",
       "      <th>5</th>\n",
       "      <td>76</td>\n",
       "      <td>68</td>\n",
       "      <td>3</td>\n",
       "    </tr>\n",
       "    <tr>\n",
       "      <th>6</th>\n",
       "      <td>61</td>\n",
       "      <td>58</td>\n",
       "      <td>1</td>\n",
       "    </tr>\n",
       "    <tr>\n",
       "      <th>7</th>\n",
       "      <td>64</td>\n",
       "      <td>76</td>\n",
       "      <td>2</td>\n",
       "    </tr>\n",
       "    <tr>\n",
       "      <th>8</th>\n",
       "      <td>68</td>\n",
       "      <td>66</td>\n",
       "      <td>2</td>\n",
       "    </tr>\n",
       "    <tr>\n",
       "      <th>9</th>\n",
       "      <td>34</td>\n",
       "      <td>61</td>\n",
       "      <td>1</td>\n",
       "    </tr>\n",
       "  </tbody>\n",
       "</table>\n",
       "</div>"
      ],
      "text/plain": [
       "   weight  height  Predicted label\n",
       "0      74      67                2\n",
       "1      69      63                2\n",
       "2      92      81                3\n",
       "3      64      61                2\n",
       "4      66      84                2\n",
       "5      76      68                3\n",
       "6      61      58                1\n",
       "7      64      76                2\n",
       "8      68      66                2\n",
       "9      34      61                1"
      ]
     },
     "execution_count": 12,
     "metadata": {},
     "output_type": "execute_result"
    }
   ],
   "source": [
    "Y_predicted"
   ]
  },
  {
   "cell_type": "markdown",
   "metadata": {},
   "source": [
    "#### Answer 2: Using Rational Model of categorization on the given dataset"
   ]
  },
  {
   "cell_type": "code",
   "execution_count": 13,
   "metadata": {},
   "outputs": [],
   "source": [
    "\n",
    "# Implementation of Anderson's venerable \"rational\" model of categorization.\n",
    "# Assumes that stimuli were generated by a mixture of Gaussian distributions;\n",
    "# rather than compute the full Bayesian posterior, it views items sequentially\n",
    "# and assigns each to the maximum a posteriori cluster.\n",
    "#\n",
    "# At the end it is presented with a stimulus with one item missing, and\n",
    "# predicts the probability that its value is a '0' or a '1'.\n",
    "#\n",
    "# Implemented in python by John McDonnell\n",
    "#\n",
    "# References: Anderson (1990) and Anderson (1991),\n",
    "\n",
    "\n",
    "\n",
    "#Utility functions:\n",
    "\n",
    "class dLocalMAP:\n",
    "    \"\"\"\n",
    "    See Anderson (1990, 1991)\n",
    "    'Categories' renamed 'clusters' to avoid confusion.\n",
    "    Discrete version.\n",
    "    \n",
    "    Stimulus format is a list of integers from 0 to n-1 where n is the number\n",
    "    of possible features (e.g. [1,0,1])\n",
    "    \n",
    "    args: c, alphas\n",
    "    \"\"\"\n",
    "    \n",
    "    def __init__(self, args):\n",
    "        self.partition = [[]]\n",
    "        self.c, self.alpha = args\n",
    "        self.alpha0 = [sum(s) for s in self.alpha.T]\n",
    "        #print(self.alpha0)\n",
    "        self.N = 0\n",
    "    \n",
    "    def probClustVal(self, k, i, val):\n",
    "        \"\"\"Find P(j|k)\"\"\"\n",
    "        cj = len([x for x in self.partition[k] if x[i]==val])\n",
    "        nk = len(self.partition)\n",
    "        #print('i',i)\n",
    "        return (cj + self.alpha[i][val])/(nk + self.alpha0[i])\n",
    "    \n",
    "    def condclusterprob(self, stim, k):\n",
    "        \"\"\"Find P(F|k)\"\"\"\n",
    "        pjks = []\n",
    "        for i in range(len(stim)):\n",
    "            cj = len([x for x in self.partition[k] if x[i]==stim[i]])\n",
    "            nk = len(self.partition[k])\n",
    "            #print('i',i)\n",
    "            pjks.append( (cj + self.alpha[i][stim[i]])/(nk + self.alpha0[i]) )\n",
    "        return np.product( pjks )\n",
    "        \n",
    "    \n",
    "    def posterior(self, stim):\n",
    "        \"\"\"Find P(k|F) for each cluster\"\"\"\n",
    "        pk = np.zeros( len(self.partition) )\n",
    "        pFk = np.zeros( len(self.partition) )\n",
    "        \n",
    "        # existing clusters:\n",
    "        for k in range(len(self.partition)):\n",
    "            pk[k] = self.c * len(self.partition[k])/ ((1-self.c) + self.c * self.N)\n",
    "            if len(self.partition[k])==0: # case of new cluster\n",
    "                pk[k] = (1-self.c) / (( 1-self.c ) + self.c * self.N)\n",
    "            pFk[k] = self.condclusterprob( stim, k)\n",
    "        \n",
    "        # put it together\n",
    "        pkF = (pk*pFk) # / sum( pk*pFk )\n",
    "        \n",
    "        return pkF\n",
    "    \n",
    "    def stimulate(self, stim):\n",
    "        \"\"\"Argmax of P(k|F) + P(0|F)\"\"\"\n",
    "        winner = np.argmax( self.posterior(stim) )\n",
    "        #print (\"Stim: \", stim)\n",
    "        #print (\"Partition: \", self.partition)\n",
    "        #print (self.posterior(stim))\n",
    "        \n",
    "        if len(self.partition[winner]) == 0:\n",
    "            self.partition.append( [] )\n",
    "        self.partition[winner].append(stim)\n",
    "        \n",
    "        self.N += 1\n",
    "    \n",
    "    def query(self, stimulus):\n",
    "        \"\"\"Queried value should be -1.\"\"\"\n",
    "        qdim = -1\n",
    "        for i in range(len(stimulus)):\n",
    "            if stimulus[i] < 0:\n",
    "                if qdim != -1:\n",
    "                    raise Exception(\"ERROR: Multiple dimensions queried.\")\n",
    "                qdim = i\n",
    "        \n",
    "        self.N = sum([len(x) for x in self.partition])\n",
    "        \n",
    "        pkF = self.posterior(stimulus)\n",
    "        pkF = pkF[:-1] / sum(pkF[:-1]) # eliminate `new cluster' prob\n",
    "        \n",
    "        pjF = np.array( [sum( [ pkF[k] * self.probClustVal(k, qdim, j) \\\n",
    "                for k in range(len(self.partition)-1)] ) \n",
    "                for j in range(len( self.alpha[qdim] ))] )\n",
    "        \n",
    "        return pjF / sum(pjF)\n",
    "\n",
    "#def testlocalmapD():\n",
    "    \"\"\"\n",
    "    Tests the Anderson's ratinal model using the Medin & Schaffer (1978) data.\n",
    "    \n",
    "    This script will print out the probability that each item belongs to each\n",
    "    of the existing clusters or to a new cluster, and the model assign it to\n",
    "    the most likely cluster. To see that the model is working correctly, you\n",
    "    can follow along with Anderson (1991), which steps through in the same way.\n",
    "    \"\"\"\n",
    "    ''' stims = [[1, 1, 1, 1, 1], # Medin & Schaffer (1978)\n",
    "             [1, 0, 1, 0, 1], \n",
    "             [1, 0, 1, 1, 0],\n",
    "             [0, 0, 0, 0, 0],\n",
    "             [0, 1, 0, 1, 1],  \n",
    "             [0, 1, 0, 0, 0]]'''\n",
    "    # These are the classic Shepard Type II and Type IV datasets.\n",
    "    # Uncomment the one you want to try out; you might want to uncomment\n",
    "    # shuffling the stims too if you don't care about order.\n",
    "    #stims = [[0, 0, 0, 0], [0, 0, 1, 0], [1, 1, 0, 1], [1, 1, 1, 1], [1, 0, 0, 0], [1, 0, 1, 1], [0, 1, 0, 0], [0, 1, 1, 1]] # Type IV\n",
    "    #stims = [[0, 0, 0, 0], [0, 0, 1, 0], [1, 1, 0, 0], [1, 1, 1, 0], [1, 0, 0, 1], [1, 0, 1, 1], [0, 1, 0, 1], [0, 1, 1, 1]] # Type II\n",
    "    \n",
    "    '''for _ in range(1) :\n",
    "        model = dLocalMAP([.5, np.ones((len(stims[0]),2))])\n",
    "        \n",
    "        shuffle(stims)\n",
    "        for s in stims:\n",
    "            model.stimulate(s)\n",
    "        print(model.partition)'''\n",
    "        \n",
    "        #print(\"Prob vals for 0,0,0,0,?\", model.query( [0]*(len(stims[0])-1) + [-1] ))\n",
    "       \n",
    "\n",
    "#def main():\n",
    "    #testlocalmapD()\n",
    "\n",
    "#if __name__ == '__main__':\n",
    "    #main()\n"
   ]
  },
  {
   "cell_type": "code",
   "execution_count": 14,
   "metadata": {},
   "outputs": [],
   "source": [
    "#creating a list of stimulus\n",
    "stims=[]\n",
    "for index, rows in X.iterrows():\n",
    "    temp_list =[rows.weight, rows.height, rows.label]\n",
    "    stims.append(temp_list)"
   ]
  },
  {
   "cell_type": "markdown",
   "metadata": {},
   "source": [
    "\n",
    "The intricacies of RMC are studied from the [paper](https://cseweb.ucsd.edu//~gary/PAPER-SUGGESTIONS/anderson-psych-rev-1991.pdf).\n",
    "\n",
    "$$P_{i}(j|k)== \\frac{c_j + \\alpha_j}{n_k + \\alpha_0}$$\n",
    "- Here, $\\alpha_{j}$ helps in computing the value of $P_{i}(j|k)$.\n",
    "- $P_{i}(j|k)$ is the probability of occurance of j in a partition k.\n",
    "- Higher value of $\\alpha_{j}$ for a input feature means more attention to that particular feature.\n",
    "- The thrid list in $\\alpha$ sets the bias among the category labels (1,2,3)\n"
   ]
  },
  {
   "cell_type": "markdown",
   "metadata": {},
   "source": [
    "**Training and testing using non-informative prior:** <br>\n",
    "When the prior is non-informative, all the values in alpha are set to 1."
   ]
  },
  {
   "cell_type": "code",
   "execution_count": 15,
   "metadata": {},
   "outputs": [],
   "source": [
    "alpha=[[1]*100, [1]*100, [1]*4]\n",
    "for _ in range(1) :\n",
    "    model = dLocalMAP([.5, np.array(alpha,dtype=object)])"
   ]
  },
  {
   "cell_type": "code",
   "execution_count": 16,
   "metadata": {},
   "outputs": [],
   "source": [
    "shuffle(stims) #Shuffling the training datapoints\n",
    "for s in stims:\n",
    "    model.stimulate(s)"
   ]
  },
  {
   "cell_type": "markdown",
   "metadata": {},
   "source": [
    "Prediction on the test set :"
   ]
  },
  {
   "cell_type": "code",
   "execution_count": 17,
   "metadata": {},
   "outputs": [],
   "source": [
    "Y_predicted=Y\n",
    "for i in range(len(Y)) :\n",
    "    probability=model.query([Y.iloc[i].weight,Y.iloc[i].height,-1])\n",
    "    result = np.where(probability == np.amax(probability))\n",
    "    Y_predicted.at[i,'Predicted label']=result[0][0]\n"
   ]
  },
  {
   "cell_type": "code",
   "execution_count": 18,
   "metadata": {},
   "outputs": [
    {
     "data": {
      "text/html": [
       "<div>\n",
       "<style scoped>\n",
       "    .dataframe tbody tr th:only-of-type {\n",
       "        vertical-align: middle;\n",
       "    }\n",
       "\n",
       "    .dataframe tbody tr th {\n",
       "        vertical-align: top;\n",
       "    }\n",
       "\n",
       "    .dataframe thead th {\n",
       "        text-align: right;\n",
       "    }\n",
       "</style>\n",
       "<table border=\"1\" class=\"dataframe\">\n",
       "  <thead>\n",
       "    <tr style=\"text-align: right;\">\n",
       "      <th></th>\n",
       "      <th>weight</th>\n",
       "      <th>height</th>\n",
       "      <th>Predicted label</th>\n",
       "    </tr>\n",
       "  </thead>\n",
       "  <tbody>\n",
       "    <tr>\n",
       "      <th>0</th>\n",
       "      <td>74</td>\n",
       "      <td>67</td>\n",
       "      <td>2</td>\n",
       "    </tr>\n",
       "    <tr>\n",
       "      <th>1</th>\n",
       "      <td>69</td>\n",
       "      <td>63</td>\n",
       "      <td>2</td>\n",
       "    </tr>\n",
       "    <tr>\n",
       "      <th>2</th>\n",
       "      <td>92</td>\n",
       "      <td>81</td>\n",
       "      <td>2</td>\n",
       "    </tr>\n",
       "    <tr>\n",
       "      <th>3</th>\n",
       "      <td>64</td>\n",
       "      <td>61</td>\n",
       "      <td>2</td>\n",
       "    </tr>\n",
       "    <tr>\n",
       "      <th>4</th>\n",
       "      <td>66</td>\n",
       "      <td>84</td>\n",
       "      <td>2</td>\n",
       "    </tr>\n",
       "    <tr>\n",
       "      <th>5</th>\n",
       "      <td>76</td>\n",
       "      <td>68</td>\n",
       "      <td>2</td>\n",
       "    </tr>\n",
       "    <tr>\n",
       "      <th>6</th>\n",
       "      <td>61</td>\n",
       "      <td>58</td>\n",
       "      <td>2</td>\n",
       "    </tr>\n",
       "    <tr>\n",
       "      <th>7</th>\n",
       "      <td>64</td>\n",
       "      <td>76</td>\n",
       "      <td>2</td>\n",
       "    </tr>\n",
       "    <tr>\n",
       "      <th>8</th>\n",
       "      <td>68</td>\n",
       "      <td>66</td>\n",
       "      <td>2</td>\n",
       "    </tr>\n",
       "    <tr>\n",
       "      <th>9</th>\n",
       "      <td>34</td>\n",
       "      <td>61</td>\n",
       "      <td>2</td>\n",
       "    </tr>\n",
       "  </tbody>\n",
       "</table>\n",
       "</div>"
      ],
      "text/plain": [
       "   weight  height  Predicted label\n",
       "0      74      67                2\n",
       "1      69      63                2\n",
       "2      92      81                2\n",
       "3      64      61                2\n",
       "4      66      84                2\n",
       "5      76      68                2\n",
       "6      61      58                2\n",
       "7      64      76                2\n",
       "8      68      66                2\n",
       "9      34      61                2"
      ]
     },
     "execution_count": 18,
     "metadata": {},
     "output_type": "execute_result"
    }
   ],
   "source": [
    "Y_predicted"
   ]
  },
  {
   "cell_type": "markdown",
   "metadata": {},
   "source": [
    "**Training and testing considering the mentioned assumptions:** <br>\n",
    "- As weight is more likely to be used while making the category judgements, alpha for weight(first list in the code) is taken higher than alpha for height(second list in the code).\n",
    "- As the model is more likely to call someone big as average than big, the third list contains a higher value for category 2 than category 3. "
   ]
  },
  {
   "cell_type": "code",
   "execution_count": 19,
   "metadata": {},
   "outputs": [],
   "source": [
    "alpha=[[0.55]*100, [0.45]*100, [0,1,1.5,0.25]] #Here, alpha[2][category] contains the weight for each of the category.\n",
    "# As there is no category-0, the weight is zero for alpha[2][0]\n",
    "for _ in range(1) :\n",
    "    model = dLocalMAP([.5, np.array(alpha,dtype=object)])"
   ]
  },
  {
   "cell_type": "code",
   "execution_count": 20,
   "metadata": {},
   "outputs": [],
   "source": [
    "shuffle(stims) #Shuffling the training datapoints\n",
    "for s in stims:\n",
    "    model.stimulate(s)"
   ]
  },
  {
   "cell_type": "markdown",
   "metadata": {},
   "source": [
    "Predicting on the test set:"
   ]
  },
  {
   "cell_type": "code",
   "execution_count": 21,
   "metadata": {},
   "outputs": [],
   "source": [
    "Y_predicted=Y\n",
    "for i in range(len(Y)) :\n",
    "    probability=model.query([Y.iloc[i].weight,Y.iloc[i].height,-1])\n",
    "    result = np.where(probability == np.amax(probability))\n",
    "    Y_predicted.at[i,'Predicted label']=result[0][0]\n"
   ]
  },
  {
   "cell_type": "code",
   "execution_count": 22,
   "metadata": {
    "scrolled": true
   },
   "outputs": [
    {
     "data": {
      "text/html": [
       "<div>\n",
       "<style scoped>\n",
       "    .dataframe tbody tr th:only-of-type {\n",
       "        vertical-align: middle;\n",
       "    }\n",
       "\n",
       "    .dataframe tbody tr th {\n",
       "        vertical-align: top;\n",
       "    }\n",
       "\n",
       "    .dataframe thead th {\n",
       "        text-align: right;\n",
       "    }\n",
       "</style>\n",
       "<table border=\"1\" class=\"dataframe\">\n",
       "  <thead>\n",
       "    <tr style=\"text-align: right;\">\n",
       "      <th></th>\n",
       "      <th>weight</th>\n",
       "      <th>height</th>\n",
       "      <th>Predicted label</th>\n",
       "    </tr>\n",
       "  </thead>\n",
       "  <tbody>\n",
       "    <tr>\n",
       "      <th>0</th>\n",
       "      <td>74</td>\n",
       "      <td>67</td>\n",
       "      <td>2</td>\n",
       "    </tr>\n",
       "    <tr>\n",
       "      <th>1</th>\n",
       "      <td>69</td>\n",
       "      <td>63</td>\n",
       "      <td>2</td>\n",
       "    </tr>\n",
       "    <tr>\n",
       "      <th>2</th>\n",
       "      <td>92</td>\n",
       "      <td>81</td>\n",
       "      <td>2</td>\n",
       "    </tr>\n",
       "    <tr>\n",
       "      <th>3</th>\n",
       "      <td>64</td>\n",
       "      <td>61</td>\n",
       "      <td>2</td>\n",
       "    </tr>\n",
       "    <tr>\n",
       "      <th>4</th>\n",
       "      <td>66</td>\n",
       "      <td>84</td>\n",
       "      <td>2</td>\n",
       "    </tr>\n",
       "    <tr>\n",
       "      <th>5</th>\n",
       "      <td>76</td>\n",
       "      <td>68</td>\n",
       "      <td>3</td>\n",
       "    </tr>\n",
       "    <tr>\n",
       "      <th>6</th>\n",
       "      <td>61</td>\n",
       "      <td>58</td>\n",
       "      <td>2</td>\n",
       "    </tr>\n",
       "    <tr>\n",
       "      <th>7</th>\n",
       "      <td>64</td>\n",
       "      <td>76</td>\n",
       "      <td>2</td>\n",
       "    </tr>\n",
       "    <tr>\n",
       "      <th>8</th>\n",
       "      <td>68</td>\n",
       "      <td>66</td>\n",
       "      <td>2</td>\n",
       "    </tr>\n",
       "    <tr>\n",
       "      <th>9</th>\n",
       "      <td>34</td>\n",
       "      <td>61</td>\n",
       "      <td>2</td>\n",
       "    </tr>\n",
       "  </tbody>\n",
       "</table>\n",
       "</div>"
      ],
      "text/plain": [
       "   weight  height  Predicted label\n",
       "0      74      67                2\n",
       "1      69      63                2\n",
       "2      92      81                2\n",
       "3      64      61                2\n",
       "4      66      84                2\n",
       "5      76      68                3\n",
       "6      61      58                2\n",
       "7      64      76                2\n",
       "8      68      66                2\n",
       "9      34      61                2"
      ]
     },
     "execution_count": 22,
     "metadata": {},
     "output_type": "execute_result"
    }
   ],
   "source": [
    "Y_predicted"
   ]
  },
  {
   "cell_type": "markdown",
   "metadata": {},
   "source": [
    "The RMC mostly predicts all the labels as 2. In some rare shuffles of the training set it predicts the label as 3 for one of the stimulus y.\n",
    "- One of the reason behind this can be the provided training dataset is biased. It contains more datapoints corresponding to label 2."
   ]
  },
  {
   "cell_type": "markdown",
   "metadata": {},
   "source": [
    "#### Answer 3: Comments on  exchangibility of data for GCM and RMC"
   ]
  },
  {
   "cell_type": "markdown",
   "metadata": {},
   "source": [
    "**Part 1: Generalized Context Model for categorization**"
   ]
  },
  {
   "cell_type": "code",
   "execution_count": 23,
   "metadata": {},
   "outputs": [],
   "source": [
    "def gcm(X,Y,category=[1,2,3],alpha=[0.75,0.25],beta=1,gamma=[0.2,0.6,0.2]) :\n",
    "    exemplars=form_exemplars(X)\n",
    "    \n",
    "    Y_predicted=Y\n",
    "    Y_predicted['Predicted label']=[0]*len(Y)\n",
    "    for i in range(len(Y)) :\n",
    "        probability=compute_probability(Y.iloc[i],exemplars,alpha,beta,gamma)\n",
    "        result = np.where(probability == np.amax(probability))\n",
    "        #print(Y.iloc[i],result[0][0]+1)\n",
    "        Y_predicted.at[i,'Predicted label']=result[0][0]+1\n",
    "    \n",
    "\n",
    "    return Y_predicted"
   ]
  },
  {
   "cell_type": "markdown",
   "metadata": {},
   "source": [
    "GCM prediction without shuffling the training set :"
   ]
  },
  {
   "cell_type": "code",
   "execution_count": 24,
   "metadata": {},
   "outputs": [
    {
     "data": {
      "text/html": [
       "<div>\n",
       "<style scoped>\n",
       "    .dataframe tbody tr th:only-of-type {\n",
       "        vertical-align: middle;\n",
       "    }\n",
       "\n",
       "    .dataframe tbody tr th {\n",
       "        vertical-align: top;\n",
       "    }\n",
       "\n",
       "    .dataframe thead th {\n",
       "        text-align: right;\n",
       "    }\n",
       "</style>\n",
       "<table border=\"1\" class=\"dataframe\">\n",
       "  <thead>\n",
       "    <tr style=\"text-align: right;\">\n",
       "      <th></th>\n",
       "      <th>weight</th>\n",
       "      <th>height</th>\n",
       "      <th>Predicted label</th>\n",
       "    </tr>\n",
       "  </thead>\n",
       "  <tbody>\n",
       "    <tr>\n",
       "      <th>0</th>\n",
       "      <td>74</td>\n",
       "      <td>67</td>\n",
       "      <td>2</td>\n",
       "    </tr>\n",
       "    <tr>\n",
       "      <th>1</th>\n",
       "      <td>69</td>\n",
       "      <td>63</td>\n",
       "      <td>2</td>\n",
       "    </tr>\n",
       "    <tr>\n",
       "      <th>2</th>\n",
       "      <td>92</td>\n",
       "      <td>81</td>\n",
       "      <td>3</td>\n",
       "    </tr>\n",
       "    <tr>\n",
       "      <th>3</th>\n",
       "      <td>64</td>\n",
       "      <td>61</td>\n",
       "      <td>2</td>\n",
       "    </tr>\n",
       "    <tr>\n",
       "      <th>4</th>\n",
       "      <td>66</td>\n",
       "      <td>84</td>\n",
       "      <td>2</td>\n",
       "    </tr>\n",
       "    <tr>\n",
       "      <th>5</th>\n",
       "      <td>76</td>\n",
       "      <td>68</td>\n",
       "      <td>3</td>\n",
       "    </tr>\n",
       "    <tr>\n",
       "      <th>6</th>\n",
       "      <td>61</td>\n",
       "      <td>58</td>\n",
       "      <td>1</td>\n",
       "    </tr>\n",
       "    <tr>\n",
       "      <th>7</th>\n",
       "      <td>64</td>\n",
       "      <td>76</td>\n",
       "      <td>2</td>\n",
       "    </tr>\n",
       "    <tr>\n",
       "      <th>8</th>\n",
       "      <td>68</td>\n",
       "      <td>66</td>\n",
       "      <td>2</td>\n",
       "    </tr>\n",
       "    <tr>\n",
       "      <th>9</th>\n",
       "      <td>34</td>\n",
       "      <td>61</td>\n",
       "      <td>1</td>\n",
       "    </tr>\n",
       "  </tbody>\n",
       "</table>\n",
       "</div>"
      ],
      "text/plain": [
       "   weight  height  Predicted label\n",
       "0      74      67                2\n",
       "1      69      63                2\n",
       "2      92      81                3\n",
       "3      64      61                2\n",
       "4      66      84                2\n",
       "5      76      68                3\n",
       "6      61      58                1\n",
       "7      64      76                2\n",
       "8      68      66                2\n",
       "9      34      61                1"
      ]
     },
     "execution_count": 24,
     "metadata": {},
     "output_type": "execute_result"
    }
   ],
   "source": [
    "predictions1=gcm(X,Y)\n",
    "predictions1"
   ]
  },
  {
   "cell_type": "markdown",
   "metadata": {},
   "source": [
    "GCM predictions after shuffling the training set :"
   ]
  },
  {
   "cell_type": "code",
   "execution_count": 25,
   "metadata": {},
   "outputs": [
    {
     "data": {
      "text/html": [
       "<div>\n",
       "<style scoped>\n",
       "    .dataframe tbody tr th:only-of-type {\n",
       "        vertical-align: middle;\n",
       "    }\n",
       "\n",
       "    .dataframe tbody tr th {\n",
       "        vertical-align: top;\n",
       "    }\n",
       "\n",
       "    .dataframe thead th {\n",
       "        text-align: right;\n",
       "    }\n",
       "</style>\n",
       "<table border=\"1\" class=\"dataframe\">\n",
       "  <thead>\n",
       "    <tr style=\"text-align: right;\">\n",
       "      <th></th>\n",
       "      <th>weight</th>\n",
       "      <th>height</th>\n",
       "      <th>Predicted label</th>\n",
       "    </tr>\n",
       "  </thead>\n",
       "  <tbody>\n",
       "    <tr>\n",
       "      <th>0</th>\n",
       "      <td>74</td>\n",
       "      <td>67</td>\n",
       "      <td>2</td>\n",
       "    </tr>\n",
       "    <tr>\n",
       "      <th>1</th>\n",
       "      <td>69</td>\n",
       "      <td>63</td>\n",
       "      <td>2</td>\n",
       "    </tr>\n",
       "    <tr>\n",
       "      <th>2</th>\n",
       "      <td>92</td>\n",
       "      <td>81</td>\n",
       "      <td>3</td>\n",
       "    </tr>\n",
       "    <tr>\n",
       "      <th>3</th>\n",
       "      <td>64</td>\n",
       "      <td>61</td>\n",
       "      <td>2</td>\n",
       "    </tr>\n",
       "    <tr>\n",
       "      <th>4</th>\n",
       "      <td>66</td>\n",
       "      <td>84</td>\n",
       "      <td>2</td>\n",
       "    </tr>\n",
       "    <tr>\n",
       "      <th>5</th>\n",
       "      <td>76</td>\n",
       "      <td>68</td>\n",
       "      <td>3</td>\n",
       "    </tr>\n",
       "    <tr>\n",
       "      <th>6</th>\n",
       "      <td>61</td>\n",
       "      <td>58</td>\n",
       "      <td>1</td>\n",
       "    </tr>\n",
       "    <tr>\n",
       "      <th>7</th>\n",
       "      <td>64</td>\n",
       "      <td>76</td>\n",
       "      <td>2</td>\n",
       "    </tr>\n",
       "    <tr>\n",
       "      <th>8</th>\n",
       "      <td>68</td>\n",
       "      <td>66</td>\n",
       "      <td>2</td>\n",
       "    </tr>\n",
       "    <tr>\n",
       "      <th>9</th>\n",
       "      <td>34</td>\n",
       "      <td>61</td>\n",
       "      <td>1</td>\n",
       "    </tr>\n",
       "  </tbody>\n",
       "</table>\n",
       "</div>"
      ],
      "text/plain": [
       "   weight  height  Predicted label\n",
       "0      74      67                2\n",
       "1      69      63                2\n",
       "2      92      81                3\n",
       "3      64      61                2\n",
       "4      66      84                2\n",
       "5      76      68                3\n",
       "6      61      58                1\n",
       "7      64      76                2\n",
       "8      68      66                2\n",
       "9      34      61                1"
      ]
     },
     "execution_count": 25,
     "metadata": {},
     "output_type": "execute_result"
    }
   ],
   "source": [
    "X_shuffled=X.sample(frac=1)\n",
    "predictions2=gcm(X_shuffled,Y)\n",
    "predictions2"
   ]
  },
  {
   "cell_type": "markdown",
   "metadata": {},
   "source": [
    "**Testing on multiple trials:**"
   ]
  },
  {
   "cell_type": "code",
   "execution_count": 26,
   "metadata": {},
   "outputs": [
    {
     "name": "stdout",
     "output_type": "stream",
     "text": [
      "[2 2 3 2 2 3 1 2 2 1]\n",
      "[2 2 3 2 2 3 1 2 2 1]\n",
      "[2 2 3 2 2 3 1 2 2 1]\n",
      "[2 2 3 2 2 3 1 2 2 1]\n",
      "[2 2 3 2 2 3 1 2 2 1]\n",
      "[2 2 3 2 2 3 1 2 2 1]\n",
      "[2 2 3 2 2 3 1 2 2 1]\n",
      "[2 2 3 2 2 3 1 2 2 1]\n",
      "[2 2 3 2 2 3 1 2 2 1]\n",
      "[2 2 3 2 2 3 1 2 2 1]\n"
     ]
    }
   ],
   "source": [
    "for _ in range(10) :\n",
    "    X_shuffled=X.sample(frac=1)\n",
    "    predictions2=gcm(X_shuffled,Y)\n",
    "    print(predictions2['Predicted label'].values)"
   ]
  },
  {
   "cell_type": "markdown",
   "metadata": {},
   "source": [
    "**Conclusion: GCM assumes exchangibility of data**\n",
    "\n",
    "- As it is evident from the above the above trials, the predictions of GCM is independent of the order in which the data appears.\n",
    "- The GCM model is based on a voting system i.e. counting total votes cast for category R by exemplars divided by total votes casted. The category with maximum probability is assigned as the label. As, during testing for a stimulus the probability for it being in a particular category does't change, the labels also stay the same."
   ]
  },
  {
   "cell_type": "markdown",
   "metadata": {},
   "source": [
    "**Part 2: Rational Model of categorization**"
   ]
  },
  {
   "cell_type": "code",
   "execution_count": 27,
   "metadata": {},
   "outputs": [],
   "source": [
    "stims=[]\n",
    "for index, rows in X.iterrows():\n",
    "    temp_list =[rows.weight, rows.height, rows.label]\n",
    "    stims.append(temp_list)"
   ]
  },
  {
   "cell_type": "markdown",
   "metadata": {},
   "source": [
    "Prediction without shuffling the dataset :"
   ]
  },
  {
   "cell_type": "code",
   "execution_count": 28,
   "metadata": {},
   "outputs": [],
   "source": [
    "alpha=[[0.6]*100, [0.3]*100, [0,2,1,0.25]]\n",
    "for _ in range(1) :\n",
    "    model = dLocalMAP([.5, np.array(alpha,dtype=object)])\n",
    "\n",
    "#shuffle(stims) #Shuffling the training datapoints\n",
    "for s in stims:\n",
    "    model.stimulate(s)\n",
    "\n",
    "Y_predicted=Y\n",
    "for i in range(len(Y)) :\n",
    "    probability=model.query([Y.iloc[i].weight,Y.iloc[i].height,-1])\n",
    "    result = np.where(probability == np.amax(probability))\n",
    "    Y_predicted.at[i,'Predicted label']=result[0][0]\n",
    "    "
   ]
  },
  {
   "cell_type": "code",
   "execution_count": 29,
   "metadata": {},
   "outputs": [
    {
     "data": {
      "text/html": [
       "<div>\n",
       "<style scoped>\n",
       "    .dataframe tbody tr th:only-of-type {\n",
       "        vertical-align: middle;\n",
       "    }\n",
       "\n",
       "    .dataframe tbody tr th {\n",
       "        vertical-align: top;\n",
       "    }\n",
       "\n",
       "    .dataframe thead th {\n",
       "        text-align: right;\n",
       "    }\n",
       "</style>\n",
       "<table border=\"1\" class=\"dataframe\">\n",
       "  <thead>\n",
       "    <tr style=\"text-align: right;\">\n",
       "      <th></th>\n",
       "      <th>weight</th>\n",
       "      <th>height</th>\n",
       "      <th>Predicted label</th>\n",
       "    </tr>\n",
       "  </thead>\n",
       "  <tbody>\n",
       "    <tr>\n",
       "      <th>0</th>\n",
       "      <td>74</td>\n",
       "      <td>67</td>\n",
       "      <td>2</td>\n",
       "    </tr>\n",
       "    <tr>\n",
       "      <th>1</th>\n",
       "      <td>69</td>\n",
       "      <td>63</td>\n",
       "      <td>2</td>\n",
       "    </tr>\n",
       "    <tr>\n",
       "      <th>2</th>\n",
       "      <td>92</td>\n",
       "      <td>81</td>\n",
       "      <td>2</td>\n",
       "    </tr>\n",
       "    <tr>\n",
       "      <th>3</th>\n",
       "      <td>64</td>\n",
       "      <td>61</td>\n",
       "      <td>2</td>\n",
       "    </tr>\n",
       "    <tr>\n",
       "      <th>4</th>\n",
       "      <td>66</td>\n",
       "      <td>84</td>\n",
       "      <td>2</td>\n",
       "    </tr>\n",
       "    <tr>\n",
       "      <th>5</th>\n",
       "      <td>76</td>\n",
       "      <td>68</td>\n",
       "      <td>2</td>\n",
       "    </tr>\n",
       "    <tr>\n",
       "      <th>6</th>\n",
       "      <td>61</td>\n",
       "      <td>58</td>\n",
       "      <td>2</td>\n",
       "    </tr>\n",
       "    <tr>\n",
       "      <th>7</th>\n",
       "      <td>64</td>\n",
       "      <td>76</td>\n",
       "      <td>2</td>\n",
       "    </tr>\n",
       "    <tr>\n",
       "      <th>8</th>\n",
       "      <td>68</td>\n",
       "      <td>66</td>\n",
       "      <td>2</td>\n",
       "    </tr>\n",
       "    <tr>\n",
       "      <th>9</th>\n",
       "      <td>34</td>\n",
       "      <td>61</td>\n",
       "      <td>2</td>\n",
       "    </tr>\n",
       "  </tbody>\n",
       "</table>\n",
       "</div>"
      ],
      "text/plain": [
       "   weight  height  Predicted label\n",
       "0      74      67                2\n",
       "1      69      63                2\n",
       "2      92      81                2\n",
       "3      64      61                2\n",
       "4      66      84                2\n",
       "5      76      68                2\n",
       "6      61      58                2\n",
       "7      64      76                2\n",
       "8      68      66                2\n",
       "9      34      61                2"
      ]
     },
     "execution_count": 29,
     "metadata": {},
     "output_type": "execute_result"
    }
   ],
   "source": [
    "Y_predicted"
   ]
  },
  {
   "cell_type": "markdown",
   "metadata": {},
   "source": [
    "Prediction after shuffling the dataset:"
   ]
  },
  {
   "cell_type": "code",
   "execution_count": 30,
   "metadata": {},
   "outputs": [],
   "source": [
    "alpha=[[0.6]*100, [0.3]*100, [0,2,1,0.25]]\n",
    "for _ in range(1) :\n",
    "    model = dLocalMAP([.5, np.array(alpha,dtype=object)])\n",
    "\n",
    "shuffle(stims) #Shuffling the training datapoints\n",
    "for s in stims:\n",
    "    model.stimulate(s)\n",
    "\n",
    "Y_predicted=Y\n",
    "for i in range(len(Y)) :\n",
    "    probability=model.query([Y.iloc[i].weight,Y.iloc[i].height,-1])\n",
    "    result = np.where(probability == np.amax(probability))\n",
    "    Y_predicted.at[i,'Predicted label']=result[0][0]"
   ]
  },
  {
   "cell_type": "code",
   "execution_count": 31,
   "metadata": {},
   "outputs": [
    {
     "data": {
      "text/html": [
       "<div>\n",
       "<style scoped>\n",
       "    .dataframe tbody tr th:only-of-type {\n",
       "        vertical-align: middle;\n",
       "    }\n",
       "\n",
       "    .dataframe tbody tr th {\n",
       "        vertical-align: top;\n",
       "    }\n",
       "\n",
       "    .dataframe thead th {\n",
       "        text-align: right;\n",
       "    }\n",
       "</style>\n",
       "<table border=\"1\" class=\"dataframe\">\n",
       "  <thead>\n",
       "    <tr style=\"text-align: right;\">\n",
       "      <th></th>\n",
       "      <th>weight</th>\n",
       "      <th>height</th>\n",
       "      <th>Predicted label</th>\n",
       "    </tr>\n",
       "  </thead>\n",
       "  <tbody>\n",
       "    <tr>\n",
       "      <th>0</th>\n",
       "      <td>74</td>\n",
       "      <td>67</td>\n",
       "      <td>2</td>\n",
       "    </tr>\n",
       "    <tr>\n",
       "      <th>1</th>\n",
       "      <td>69</td>\n",
       "      <td>63</td>\n",
       "      <td>2</td>\n",
       "    </tr>\n",
       "    <tr>\n",
       "      <th>2</th>\n",
       "      <td>92</td>\n",
       "      <td>81</td>\n",
       "      <td>2</td>\n",
       "    </tr>\n",
       "    <tr>\n",
       "      <th>3</th>\n",
       "      <td>64</td>\n",
       "      <td>61</td>\n",
       "      <td>2</td>\n",
       "    </tr>\n",
       "    <tr>\n",
       "      <th>4</th>\n",
       "      <td>66</td>\n",
       "      <td>84</td>\n",
       "      <td>2</td>\n",
       "    </tr>\n",
       "    <tr>\n",
       "      <th>5</th>\n",
       "      <td>76</td>\n",
       "      <td>68</td>\n",
       "      <td>2</td>\n",
       "    </tr>\n",
       "    <tr>\n",
       "      <th>6</th>\n",
       "      <td>61</td>\n",
       "      <td>58</td>\n",
       "      <td>2</td>\n",
       "    </tr>\n",
       "    <tr>\n",
       "      <th>7</th>\n",
       "      <td>64</td>\n",
       "      <td>76</td>\n",
       "      <td>2</td>\n",
       "    </tr>\n",
       "    <tr>\n",
       "      <th>8</th>\n",
       "      <td>68</td>\n",
       "      <td>66</td>\n",
       "      <td>2</td>\n",
       "    </tr>\n",
       "    <tr>\n",
       "      <th>9</th>\n",
       "      <td>34</td>\n",
       "      <td>61</td>\n",
       "      <td>2</td>\n",
       "    </tr>\n",
       "  </tbody>\n",
       "</table>\n",
       "</div>"
      ],
      "text/plain": [
       "   weight  height  Predicted label\n",
       "0      74      67                2\n",
       "1      69      63                2\n",
       "2      92      81                2\n",
       "3      64      61                2\n",
       "4      66      84                2\n",
       "5      76      68                2\n",
       "6      61      58                2\n",
       "7      64      76                2\n",
       "8      68      66                2\n",
       "9      34      61                2"
      ]
     },
     "execution_count": 31,
     "metadata": {},
     "output_type": "execute_result"
    }
   ],
   "source": [
    "Y_predicted"
   ]
  },
  {
   "cell_type": "markdown",
   "metadata": {},
   "source": [
    "**Testing on Multiple trials:**"
   ]
  },
  {
   "cell_type": "code",
   "execution_count": 32,
   "metadata": {},
   "outputs": [
    {
     "name": "stdout",
     "output_type": "stream",
     "text": [
      "[2 2 2 2 2 2 2 2 2 2]\n",
      "[2 2 2 2 2 2 2 2 2 2]\n",
      "[2 2 2 2 2 2 2 2 2 2]\n",
      "[2 2 2 2 2 3 2 2 2 2]\n",
      "[2 2 2 2 2 3 2 2 2 2]\n",
      "[2 2 2 2 2 3 2 2 2 2]\n",
      "[2 2 2 2 2 2 2 2 2 2]\n",
      "[2 2 2 2 2 2 2 2 2 2]\n",
      "[2 2 2 2 2 2 2 2 2 2]\n",
      "[2 2 2 2 2 2 2 2 2 2]\n"
     ]
    }
   ],
   "source": [
    "for _ in range(10) :\n",
    "    alpha=[[0.6]*100, [0.3]*100, [0,2,1,0.25]]\n",
    "    for i in range(1) :\n",
    "        model = dLocalMAP([.5, np.array(alpha,dtype=object)])\n",
    "\n",
    "    shuffle(stims) #Shuffling the training datapoints\n",
    "    for s in stims:\n",
    "        model.stimulate(s)\n",
    "\n",
    "    Y_predicted=Y\n",
    "    for i in range(len(Y)) :\n",
    "        probability=model.query([Y.iloc[i].weight,Y.iloc[i].height,-1])\n",
    "        result = np.where(probability == np.amax(probability))\n",
    "        Y_predicted.at[i,'Predicted label']=result[0][0]\n",
    "    \n",
    "    print(Y_predicted['Predicted label'].values)"
   ]
  },
  {
   "cell_type": "markdown",
   "metadata": {},
   "source": [
    "**Conclusion: RMC doesnot assume exchangibility of data.**<br>\n",
    "- The predictions in test set change with shuffling of training data. One of the reason behind this can be the dependence of prediction on the order of partition formation. \n",
    "- The [paper](https://cseweb.ucsd.edu//~gary/PAPER-SUGGESTIONS/anderson-psych-rev-1991.pdf) mentions order sensitivity of RMC and can be controlled by changing the values of $\\alpha$."
   ]
  },
  {
   "cell_type": "markdown",
   "metadata": {},
   "source": [
    "**Further thoughts:** <br>\n",
    "Both the models can become order senstive, if online learning is applied i.e adding the current test data once the label is predicted to the train data and then predicting the next test data after training with the updated dataset. "
   ]
  },
  {
   "cell_type": "markdown",
   "metadata": {},
   "source": [
    "**References and Acknoledgements:**\n",
    "- Course slides on GCM and RMC\n",
    "- [The adaptive nature of human categorization-John R Anderson](https://cseweb.ucsd.edu//~gary/PAPER-SUGGESTIONS/anderson-psych-rev-1991.pdf)\n",
    "- Discussions with Debdeep Paul Chaudhuri and Manjyot Singh Nanra on the concepts and parameter tuning were really helpful."
   ]
  }
 ],
 "metadata": {
  "interpreter": {
   "hash": "c132a1541f55f5599d519ea7fabebdf518618792e14bfc80e4e7434f32fb47e8"
  },
  "kernelspec": {
   "display_name": "Python 3 (ipykernel)",
   "language": "python",
   "name": "python3"
  },
  "language_info": {
   "codemirror_mode": {
    "name": "ipython",
    "version": 3
   },
   "file_extension": ".py",
   "mimetype": "text/x-python",
   "name": "python",
   "nbconvert_exporter": "python",
   "pygments_lexer": "ipython3",
   "version": "3.9.7"
  }
 },
 "nbformat": 4,
 "nbformat_minor": 2
}
