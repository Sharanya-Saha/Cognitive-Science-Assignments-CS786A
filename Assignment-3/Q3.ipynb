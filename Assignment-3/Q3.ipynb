{
 "cells": [
  {
   "cell_type": "code",
   "execution_count": 1,
   "id": "950f199c",
   "metadata": {},
   "outputs": [],
   "source": [
    "#Importing the required libraries\n",
    "import numpy as np\n",
    "from numpy import random\n",
    "import scipy.stats as stats\n",
    "from drawFromADist import drawFromADist\n",
    "import matplotlib.pyplot as plt\n",
    "from scipy.linalg import norm\n",
    "from sklearn.mixture import GaussianMixture"
   ]
  },
  {
   "cell_type": "code",
   "execution_count": 2,
   "id": "d46e8532",
   "metadata": {},
   "outputs": [],
   "source": [
    "def find(a) :\n",
    "    '''This function is written to convert the matlab code into python'''\n",
    "    return np.array([i for i,val in enumerate(a) if val > 0])"
   ]
  },
  {
   "cell_type": "code",
   "execution_count": 3,
   "id": "13af219e",
   "metadata": {},
   "outputs": [],
   "source": [
    "def generate_gaussian(mean=[0,1],sigma=[0.2,0.2],plot=False) :\n",
    "    '''returns a randomly chosen point from a gaussian distribution'''\n",
    "    if plot :\n",
    "        x = np.linspace(-1,3,1000)\n",
    "        pdf = np.zeros(shape=x.shape)\n",
    "        y=np.array([])\n",
    "        for m,s in zip(mean,sigma) :\n",
    "            pdf += stats.norm.pdf(x, m, s)\n",
    "        plt.plot(x, pdf)\n",
    "    \n",
    "    choice=np.random.choice(mean)\n",
    "    return np.random.normal(mean[choice], sigma[choice])    "
   ]
  },
  {
   "cell_type": "markdown",
   "id": "6ae12f80",
   "metadata": {},
   "source": [
    "Implementation of GaussianMixture is taken from sklearn library and is used to sample more deltas during retrival."
   ]
  },
  {
   "cell_type": "code",
   "execution_count": 4,
   "id": "7f7dd97e",
   "metadata": {},
   "outputs": [],
   "source": [
    "def temporary_context_model(schedule) :\n",
    "    N_WORLD_FEATURES = 5\n",
    "    N_ITEMS = 10\n",
    "    ENCODING_TIME = 500\n",
    "    TEST_TIME = 20\n",
    "\n",
    "    #we are going to model the world as a set of N continuous-valued features.\n",
    "    #we will model observations of states of the world as samples from N\n",
    "    #Gaussians with time-varying means and fixed variance. For simplicity,\n",
    "    #assume that agents change nothing in the world.\n",
    "\n",
    "    #first fix the presentation schedule; I'm assuming its random\n",
    "\n",
    "    \n",
    "    schedule_load = ENCODING_TIME/np.median(np.diff(schedule,1))                \n",
    "    encoding = np.zeros((N_ITEMS,N_WORLD_FEATURES+1))\n",
    "\n",
    "    world_m = random.randint(1,10, size=(N_WORLD_FEATURES))       #Generating the world randomly       \n",
    "    world_var = 1\n",
    "    #delta = 0.05                       #what does this parameter affect?\n",
    "    beta_param = 0.98               #what does this parameter affect?\n",
    "    m = 0  #Changed from zero to one as code is in python\n",
    "\n",
    "    #simulating encoding\n",
    "    deltas=[]\n",
    "    for time in range(1,ENCODING_TIME+1) :\n",
    "        delta=generate_gaussian()\n",
    "        world_m = beta_param*world_m + delta\n",
    "        world = random.normal(world_m, world_var)\n",
    "        #any item I want to encode in memory, I encode in association with the\n",
    "        #state of the world at that time.\n",
    "        if m < N_ITEMS :\n",
    "            if(time==schedule[m]):\n",
    "                encoding[m,0:5] =  world\n",
    "                encoding[m,5]=m             #encoding world_context and item\n",
    "                m =  m + 1      \n",
    "                deltas.append(delta)\n",
    "    \n",
    "    EM = GaussianMixture(n_components=2,covariance_type='spherical')\n",
    "    deltas=np.array(deltas).reshape(-1, 1)\n",
    "    EM = EM.fit(deltas)\n",
    "    \n",
    "    out=np.zeros(TEST_TIME)\n",
    "    while(time<ENCODING_TIME+TEST_TIME):\n",
    "        #the state of the world is the retrieval cue\n",
    "        delta=EM.sample()[0][0]\n",
    "        world_m = beta_param*world_m + delta\n",
    "        world = random.normal(world_m, world_var)\n",
    "        soa=np.zeros(N_ITEMS)\n",
    "        for m in range(N_ITEMS):\n",
    "            t=world\n",
    "            t=np.append(t,m)\n",
    "            #print(t)\n",
    "            soa[m]=np.dot(encoding[m],t.T)  #finding association strengths\n",
    "            #print(soa)\n",
    "        soa=soa/norm(soa)             #normalize\n",
    "        out[time-ENCODING_TIME] = find(drawFromADist(soa))    #success is number of unique retrievals\n",
    "        time = time + 1\n",
    "    \n",
    "    return len(np.unique(out)),schedule_load "
   ]
  },
  {
   "cell_type": "code",
   "execution_count": 5,
   "id": "3362f06d",
   "metadata": {},
   "outputs": [
    {
     "name": "stdout",
     "output_type": "stream",
     "text": [
      "Mean Successful retrivals over multiple trials:8.42\n",
      "Schedule Load: 5.05050505050505\n"
     ]
    }
   ],
   "source": [
    "schedule = np.array([1, 100, 199, 298, 397, 496, 497, 498, 499, 500]) #The optimal schedule\n",
    "out=[]\n",
    "for i in range(50):\n",
    "    success,schedule_load=temporary_context_model(schedule)\n",
    "    out.append(success)\n",
    "print('Mean Successful retrivals over multiple trials:'+ str(np.mean(out)))\n",
    "print('Schedule Load: '+str(schedule_load))"
   ]
  },
  {
   "cell_type": "code",
   "execution_count": null,
   "id": "39603e3c",
   "metadata": {},
   "outputs": [],
   "source": []
  }
 ],
 "metadata": {
  "kernelspec": {
   "display_name": "Python 3 (ipykernel)",
   "language": "python",
   "name": "python3"
  },
  "language_info": {
   "codemirror_mode": {
    "name": "ipython",
    "version": 3
   },
   "file_extension": ".py",
   "mimetype": "text/x-python",
   "name": "python",
   "nbconvert_exporter": "python",
   "pygments_lexer": "ipython3",
   "version": "3.9.7"
  }
 },
 "nbformat": 4,
 "nbformat_minor": 5
}
