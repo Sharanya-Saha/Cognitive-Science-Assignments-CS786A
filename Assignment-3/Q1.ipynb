{
 "cells": [
  {
   "cell_type": "markdown",
   "id": "cb97fc05",
   "metadata": {},
   "source": [
    "#### The code below is an implementation of temporal context model of memory retrieval:\n",
    "Completing the code:"
   ]
  },
  {
   "cell_type": "code",
   "execution_count": 1,
   "id": "748ff083",
   "metadata": {},
   "outputs": [],
   "source": [
    "#Importing the required libraries\n",
    "import numpy as np\n",
    "from numpy import random\n",
    "from scipy.linalg import norm\n",
    "from drawFromADist import drawFromADist\n",
    "import matplotlib.pyplot as plt"
   ]
  },
  {
   "cell_type": "code",
   "execution_count": 2,
   "id": "d20edcc4",
   "metadata": {},
   "outputs": [],
   "source": [
    "def find(a) :\n",
    "    '''This function is written to convert the matlab code into python'''\n",
    "    return np.array([i for i,val in enumerate(a) if val > 0])"
   ]
  },
  {
   "cell_type": "code",
   "execution_count": 3,
   "id": "a8398311",
   "metadata": {},
   "outputs": [],
   "source": [
    "#the temporal context model assumes that the past becomes increasingly\n",
    "#dissimilar to the future, so that memories become harder to retrieve the\n",
    "#farther away in the past they are\n",
    "\n",
    "N_WORLD_FEATURES = 5\n",
    "N_ITEMS = 10\n",
    "ENCODING_TIME = 500\n",
    "TEST_TIME = 20\n",
    "\n",
    "#we are going to model the world as a set of N continuous-valued features.\n",
    "#we will model observations of states of the world as samples from N\n",
    "#Gaussians with time-varying means and fixed variance. For simplicity,\n",
    "#assume that agents change nothing in the world.\n",
    "\n",
    "#first fix the presentation schedule; I'm assuming its random\n",
    "\n",
    "schedule = np.sort(np.random.randint(1, ENCODING_TIME+1, size=N_ITEMS))\n",
    "schedule_load = ENCODING_TIME/np.median(np.diff(schedule,1))                \n",
    "encoding = np.zeros((N_ITEMS,N_WORLD_FEATURES+1))\n",
    "\n",
    "world_m = random.randint(1,10, size=(N_WORLD_FEATURES))       #Generating the world randomly       \n",
    "world_var = 1\n",
    "delta = 0.05                       #Delta specifies how-much the present world changes \n",
    "beta_param = 0.98                #what does this parameter affect?(Explained Below)\n",
    "m = 0  #Changed from zero to one as code is in python\n",
    "\n",
    "#simulating encoding\n",
    "\n",
    "for time in range(1,ENCODING_TIME+1) :\n",
    "    world_m = beta_param*world_m + delta\n",
    "    world = random.normal(world_m, world_var)\n",
    "    #any item I want to encode in memory, I encode in association with the\n",
    "    #state of the world at that time.\n",
    "    if m < N_ITEMS :\n",
    "        if(time==schedule[m]):\n",
    "            encoding[m,0:5] =  world\n",
    "            encoding[m,5]=m             #encoding world_context and item\n",
    "            m =  m + 1      \n",
    "            \n",
    "out=np.zeros(TEST_TIME)\n",
    "while(time<ENCODING_TIME+TEST_TIME):\n",
    "    #the state of the world is the retrieval cue\n",
    "    world_m = beta_param*world_m + delta\n",
    "    world = random.normal(world_m, world_var)\n",
    "    soa=np.zeros(N_ITEMS)\n",
    "    for m in range(N_ITEMS):\n",
    "        t=world\n",
    "        t=np.append(t,m)\n",
    "        #print(t)\n",
    "        soa[m]=np.dot(encoding[m],t.T)  #finding association strengths\n",
    "        #print(soa)\n",
    "    soa=soa/norm(soa)             #normalize\n",
    "    out[time-ENCODING_TIME] = find(drawFromADist(soa))    #success is number of unique retrievals\n",
    "    time = time + 1"
   ]
  },
  {
   "cell_type": "code",
   "execution_count": 4,
   "id": "6a8cbb01",
   "metadata": {
    "scrolled": true
   },
   "outputs": [
    {
     "name": "stdout",
     "output_type": "stream",
     "text": [
      "Number of unique retrievals = 9\n"
     ]
    }
   ],
   "source": [
    "#humans can retrieve about 7 items effectively from memory. get this model\n",
    "#to behave like humans\n",
    "success=len(np.unique(out))\n",
    "print(\"Number of unique retrievals = {0}\".format(success))"
   ]
  },
  {
   "cell_type": "markdown",
   "id": "b0c2ceaa",
   "metadata": {},
   "source": [
    "#### Tuning the parameters to make the model behave like humans :\n",
    "- *Finding the affect of beta_parameter :* <br>\n",
    "In order to find the optimal value of beta_parameter, I have used the code above in a function :<br>\n",
    "The average over 50 iteration is taken for each value of beta parameter."
   ]
  },
  {
   "cell_type": "code",
   "execution_count": 5,
   "id": "7644a541",
   "metadata": {},
   "outputs": [],
   "source": [
    "def temporary_context_model(schedule,beta_param) :\n",
    "    N_WORLD_FEATURES = 5\n",
    "    N_ITEMS = 10\n",
    "    ENCODING_TIME = 500\n",
    "    TEST_TIME = 20\n",
    "    \n",
    "    \n",
    "    #schedule = np.sort(np.random.randint(1, ENCODING_TIME+1, size=N_ITEMS))\n",
    "    schedule_load = ENCODING_TIME/np.median(np.diff(schedule,1))                \n",
    "    encoding = np.zeros((N_ITEMS,N_WORLD_FEATURES+1))\n",
    "    \n",
    "    world_m = random.randint(1,10, size=(N_WORLD_FEATURES))       #Generating the world randomly       \n",
    "    world_var = 1\n",
    "    delta = 0.05                       #what does this parameter affect?\n",
    "    #beta_param = 0.001                #what does this parameter affect?\n",
    "    m = 0 \n",
    "    \n",
    "    \n",
    "    #simulating encoding\n",
    "\n",
    "    for time in range(1,ENCODING_TIME+1) :\n",
    "        world_m = beta_param*world_m + delta\n",
    "        world = random.normal(world_m, world_var)\n",
    "        #any item I want to encode in memory, I encode in association with the\n",
    "        #state of the world at that time.\n",
    "        if m < N_ITEMS :\n",
    "            if(time==schedule[m]):\n",
    "                encoding[m,0:5] =  world\n",
    "                encoding[m,5]=m             #encoding world_context and item\n",
    "                m =  m + 1      \n",
    "                \n",
    "    out=np.zeros(TEST_TIME)\n",
    "    while(time<ENCODING_TIME+TEST_TIME):\n",
    "        #the state of the world is the retrieval cue\n",
    "        world_m = beta_param*world_m + delta\n",
    "        world = random.normal(world_m, world_var)\n",
    "        soa=np.zeros(N_ITEMS)\n",
    "        for m in range(N_ITEMS):\n",
    "            t=world\n",
    "            t=np.append(t,m)\n",
    "            soa[m]=np.dot(encoding[m],t.T)\n",
    "            #print(soa)\n",
    "        soa=soa/norm(soa)\n",
    "        out[time-ENCODING_TIME] = find(drawFromADist(soa))\n",
    "        time = time + 1\n",
    "        \n",
    "    return len(np.unique(out))  "
   ]
  },
  {
   "cell_type": "code",
   "execution_count": 6,
   "id": "cc1f8730",
   "metadata": {},
   "outputs": [],
   "source": [
    "schedule = np.sort(np.random.randint(1, ENCODING_TIME+1, size=N_ITEMS)) #Random schedule\n",
    "out = []\n",
    "betas=[0.0001,0.0009,0.01,0.09,0.1,0.9,0.99]\n",
    "for beta in betas :\n",
    "    avg=[]\n",
    "    for i in range(50):\n",
    "        avg.append(temporary_context_model(schedule,beta))\n",
    "    out.append(np.mean(avg))"
   ]
  },
  {
   "cell_type": "code",
   "execution_count": 7,
   "id": "d1b0f3ef",
   "metadata": {},
   "outputs": [
    {
     "data": {
      "image/png": "[encoded data removed]",
      "text/plain": [
       "<Figure size 432x288 with 1 Axes>"
      ]
     },
     "metadata": {
      "needs_background": "light"
     },
     "output_type": "display_data"
    }
   ],
   "source": [
    "values = range(len(betas))\n",
    "plt.plot(values,out,marker=\"o\")\n",
    "plt.xlabel(\"Beta Parameter\")\n",
    "plt.ylabel(\"Average success over 50 iterations\")\n",
    "plt.xticks(values,betas)\n",
    "plt.show()"
   ]
  },
  {
   "cell_type": "markdown",
   "id": "9efc124b",
   "metadata": {},
   "source": [
    "With the help of beta parameter,a linear context drift is applied to the model. It makes contexts at closer times more similar than contexts at farther times from the probe point.\n"
   ]
  },
  {
   "cell_type": "markdown",
   "id": "464a1671",
   "metadata": {},
   "source": [
    "An optimal value of beta_parameter lies somewhere between 0.9 and 1."
   ]
  },
  {
   "cell_type": "markdown",
   "id": "4f444859",
   "metadata": {},
   "source": [
    "#### Finding the mean over multiple trials(50) with the optimal beta_parameter :"
   ]
  },
  {
   "cell_type": "code",
   "execution_count": 8,
   "id": "e4847434",
   "metadata": {},
   "outputs": [],
   "source": [
    "schedule = np.sort(np.random.randint(1, ENCODING_TIME+1, size=N_ITEMS)) #Random schedule\n",
    "out = []\n",
    "for i in range(50):\n",
    "        out.append(temporary_context_model(schedule,beta_param=0.95))"
   ]
  },
  {
   "cell_type": "code",
   "execution_count": 9,
   "id": "a504e8b9",
   "metadata": {},
   "outputs": [
    {
     "name": "stdout",
     "output_type": "stream",
     "text": [
      "Mean Successful retrivals over multiple trials:7.4\n"
     ]
    }
   ],
   "source": [
    "print('Mean Successful retrivals over multiple trials:'+ str(np.mean(out)))"
   ]
  }
 ],
 "metadata": {
  "kernelspec": {
   "display_name": "Python 3 (ipykernel)",
   "language": "python",
   "name": "python3"
  },
  "language_info": {
   "codemirror_mode": {
    "name": "ipython",
    "version": 3
   },
   "file_extension": ".py",
   "mimetype": "text/x-python",
   "name": "python",
   "nbconvert_exporter": "python",
   "pygments_lexer": "ipython3",
   "version": "3.9.7"
  }
 },
 "nbformat": 4,
 "nbformat_minor": 5
}
