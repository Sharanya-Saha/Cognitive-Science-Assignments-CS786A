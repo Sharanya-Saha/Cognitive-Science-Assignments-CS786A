{
 "cells": [
  {
   "cell_type": "code",
   "execution_count": 1,
   "id": "bfba2c11",
   "metadata": {},
   "outputs": [],
   "source": [
    "#Importing the required libraries\n",
    "import numpy as np\n",
    "from numpy import random\n",
    "import scipy.stats as stats\n",
    "from drawFromADist import drawFromADist\n",
    "import matplotlib.pyplot as plt\n",
    "from scipy.linalg import norm"
   ]
  },
  {
   "cell_type": "code",
   "execution_count": 2,
   "id": "17b2e947",
   "metadata": {},
   "outputs": [],
   "source": [
    "def find(a) :\n",
    "    '''This function is written to convert the matlab code into python'''\n",
    "    return np.array([i for i,val in enumerate(a) if val > 0])"
   ]
  },
  {
   "cell_type": "code",
   "execution_count": 3,
   "id": "b953e871",
   "metadata": {},
   "outputs": [],
   "source": [
    "def generate_gaussian(mean=[0,1],sigma=[0.2,0.2],plot=False) :\n",
    "    '''returns a randomly chosen point from a gaussian distribution'''\n",
    "    if plot :\n",
    "        x = np.linspace(-1,3,1000)\n",
    "        pdf = np.zeros(shape=x.shape)\n",
    "        y=np.array([])\n",
    "        for m,s in zip(mean,sigma) :\n",
    "            pdf += stats.norm.pdf(x, m, s)\n",
    "        plt.plot(x, pdf)\n",
    "    \n",
    "    choice=np.random.choice(mean)\n",
    "    return np.random.normal(mean[choice], sigma[choice])    "
   ]
  },
  {
   "cell_type": "code",
   "execution_count": 4,
   "id": "b85b7a46",
   "metadata": {},
   "outputs": [],
   "source": [
    "def temporary_context_model(schedule,beta_param=0.95) :\n",
    "    N_WORLD_FEATURES = 5\n",
    "    N_ITEMS = 10\n",
    "    ENCODING_TIME = 500\n",
    "    TEST_TIME = 20\n",
    "    \n",
    "    \n",
    "    #schedule = np.sort(np.random.randint(1, ENCODING_TIME+1, size=N_ITEMS))\n",
    "    schedule_load = ENCODING_TIME/np.median(np.diff(schedule,1))                \n",
    "    encoding = np.zeros((N_ITEMS,N_WORLD_FEATURES+1))\n",
    "    \n",
    "    world_m = random.randint(1,10, size=(N_WORLD_FEATURES))       #Generating the world randomly       \n",
    "    world_var = 1\n",
    "    #delta = 0.05                       #what does this parameter affect?\n",
    "    #beta_param = 0.001                #what does this parameter affect?\n",
    "    m = 0 \n",
    "    \n",
    "    \n",
    "    #simulating encoding\n",
    "\n",
    "    for time in range(1,ENCODING_TIME+1) :\n",
    "        delta=generate_gaussian()  #sampling the rate of drift over time (delta) \n",
    "        world_m = beta_param*world_m + delta\n",
    "        world = random.normal(world_m, world_var)\n",
    "        #any item I want to encode in memory, I encode in association with the\n",
    "        #state of the world at that time.\n",
    "        if m < N_ITEMS :\n",
    "            if(time==schedule[m]):\n",
    "                encoding[m,0:5] =  world\n",
    "                encoding[m,5]=m             #encoding world_context and item\n",
    "                m =  m + 1      \n",
    "                \n",
    "    out=np.zeros(TEST_TIME)\n",
    "    while(time<ENCODING_TIME+TEST_TIME):\n",
    "        #the state of the world is the retrieval cue\n",
    "        world_m = beta_param*world_m + delta\n",
    "        world = random.normal(world_m, world_var)\n",
    "        soa=np.zeros(N_ITEMS)\n",
    "        for m in range(N_ITEMS):\n",
    "            t=world\n",
    "            t=np.append(t,m)\n",
    "            soa[m]=np.dot(encoding[m],t.T)\n",
    "            #print(soa)\n",
    "        soa=soa/norm(soa)\n",
    "        out[time-ENCODING_TIME] = find(drawFromADist(soa))\n",
    "        time = time + 1\n",
    "        \n",
    "    return len(np.unique(out)),schedule_load "
   ]
  },
  {
   "cell_type": "markdown",
   "id": "83ddb952",
   "metadata": {},
   "source": [
    "#### Shoving at the end :"
   ]
  },
  {
   "cell_type": "code",
   "execution_count": 5,
   "id": "3160b223",
   "metadata": {
    "scrolled": true
   },
   "outputs": [
    {
     "name": "stdout",
     "output_type": "stream",
     "text": [
      "Mean Successful retrivals over multiple trials:8.5\n",
      "Schedule Load: 500.0\n"
     ]
    }
   ],
   "source": [
    "schedule = np.arange(10)\n",
    "schedule = schedule + 491\n",
    "out = []\n",
    "for i in range(50):\n",
    "    success,schedule_load=temporary_context_model(schedule,beta_param=0.95)\n",
    "    out.append(success)\n",
    "print('Mean Successful retrivals over multiple trials:'+ str(np.mean(out)))\n",
    "print('Schedule Load: '+str(schedule_load))"
   ]
  },
  {
   "cell_type": "markdown",
   "id": "8a7bf99c",
   "metadata": {},
   "source": [
    "Shoving at the end increases the retrival rate with an increase in schedule load too."
   ]
  },
  {
   "cell_type": "markdown",
   "id": "5c0911f9",
   "metadata": {},
   "source": [
    "#### Finding the optimal schedule pattern :\n",
    "- Looking at the expression of schedule load, we can see that the numerator is constant and the denominator is schedule dependent.\n",
    "- In order to minimize the schedule load, we need to maximize the denominator. i.e the median of the diff array.\n",
    "- An example diff array with maxmium median is [99, 99, 99, 99, 99,  1,  1,  1,  1]. So, an example schedule can be [1, 100, 199, 298, 397, 496, 497, 498, 499, 500]."
   ]
  },
  {
   "cell_type": "code",
   "execution_count": 6,
   "id": "f54e5183",
   "metadata": {},
   "outputs": [
    {
     "name": "stdout",
     "output_type": "stream",
     "text": [
      "Mean Successful retrivals over multiple trials:8.58\n",
      "Schedule Load: 5.05050505050505\n"
     ]
    }
   ],
   "source": [
    "schedule = np.array([1, 100, 199, 298, 397, 496, 497, 498, 499, 500])\n",
    "out = []\n",
    "for i in range(50):\n",
    "    success,schedule_load=temporary_context_model(schedule,beta_param=0.95)\n",
    "    out.append(success)\n",
    "print('Mean Successful retrivals over multiple trials:'+ str(np.mean(out)))\n",
    "print('Schedule Load: '+str(schedule_load))"
   ]
  },
  {
   "cell_type": "code",
   "execution_count": null,
   "id": "5aaed21a",
   "metadata": {},
   "outputs": [],
   "source": []
  }
 ],
 "metadata": {
  "kernelspec": {
   "display_name": "Python 3 (ipykernel)",
   "language": "python",
   "name": "python3"
  },
  "language_info": {
   "codemirror_mode": {
    "name": "ipython",
    "version": 3
   },
   "file_extension": ".py",
   "mimetype": "text/x-python",
   "name": "python",
   "nbconvert_exporter": "python",
   "pygments_lexer": "ipython3",
   "version": "3.9.7"
  }
 },
 "nbformat": 4,
 "nbformat_minor": 5
}
